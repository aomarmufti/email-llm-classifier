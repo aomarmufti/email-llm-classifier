{
 "cells": [
  {
   "cell_type": "code",
   "execution_count": 3,
   "id": "23295c59",
   "metadata": {},
   "outputs": [
    {
     "name": "stdout",
     "output_type": "stream",
     "text": [
      "Result 1: Based on the content of the email, I would classify it as Priority. The language used in the email, such as \"Urgent\" and \"critical errors,\" suggests that the issue is time-sensitive and requires immediate attention.\n",
      "Result 2: Based on the email content you provided, I would classify it as Promotions. The email is highlighting a limited-time offer of 50% off all spring items, which is clearly meant to drive sales and increase revenue for the company. It does not contain any urgent or important information, but rather promotes an upcoming sale. Therefore, it falls under the Promotions category.\n"
     ]
    }
   ],
   "source": [
    "import pandas as pd\n",
    "import ollama\n",
    "\n",
    "# 2. Connect to Ollama and choose model\n",
    "client = ollama.Client()\n",
    "model_name = \"llama2\"  # Make sure it's pulled (run `ollama pull llama2` if needed)\n",
    "\n",
    "# 3. Load your CSV\n",
    "emails_df = pd.read_csv(\"email_categories_data.csv\")\n",
    "\n",
    "# 4. Define your prompt template\n",
    "prompt_template = \"\"\"\n",
    "You are an AI assistant. Classify the following email into one of these categories: Priority, Updates, Promotions.\n",
    "\n",
    "Example 1:\n",
    "email_content = \"Important - Billing Issue. Your payment failed. Please update your billing details immediately.\"\n",
    "Response: Priority\n",
    "\n",
    "Example 2:\n",
    "email_content = \"Your new iPhone order has been processed.\"\n",
    "Response: Updates\n",
    "\n",
    "Example 3:\n",
    "email_content = \"10% sale now on all Apple items!\"\n",
    "Response: Promotions\n",
    "\n",
    "Now classify this new email:\n",
    "email_content = \"{email_text}\"\n",
    "Response:\"\"\"\n",
    "\n",
    "# 5. Define a function to classify an email\n",
    "def process_message(client, model_name, email_text, prompt_template):\n",
    "    input_prompt = prompt_template.format(email_text=email_text)\n",
    "    response = client.generate(model=model_name, prompt=input_prompt)\n",
    "    return response.response.strip()\n",
    "\n",
    "# 6. Test on first two emails\n",
    "result1 = process_message(client, model_name, emails_df.iloc[0][\"email_content\"], prompt_template)\n",
    "result2 = process_message(client, model_name, emails_df.iloc[1][\"email_content\"], prompt_template)\n",
    "\n",
    "print(f\"Result 1: {result1}\")\n",
    "print(f\"Result 2: {result2}\")"
   ]
  }
 ],
 "metadata": {
  "kernelspec": {
   "display_name": "Python 3",
   "language": "python",
   "name": "python3"
  },
  "language_info": {
   "codemirror_mode": {
    "name": "ipython",
    "version": 3
   },
   "file_extension": ".py",
   "mimetype": "text/x-python",
   "name": "python",
   "nbconvert_exporter": "python",
   "pygments_lexer": "ipython3",
   "version": "3.11.9"
  }
 },
 "nbformat": 4,
 "nbformat_minor": 5
}
