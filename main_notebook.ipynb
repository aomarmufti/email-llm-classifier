# Run the following cells first
# Install necessary packages, then import the model running the cell below
!pip install llama-cpp-python==0.3.7 -q -q -q
SELECT *
FROM 'email_categories_data.csv'
LIMIT 5
# Import required libraries
import pandas as pd
from llama_cpp import Llama
# Set the model path
model_path = "/files-integrations/files/c9696c24-44f3-45f7-8ccd-4b9b046e7e53/tinyllama-1.1b-chat-v0.3.Q4_K_M.gguf"
# Start coding here
# Use as many cells as you need
llm = Llama(model_path=model_path)

# Step 3: Define prompt template
prompt = """
You are an AI assistant. Classify the following email into one of these categories: Priority, Updates, Promotions.

Example 1:
email_content = "Important - Billing Issue. Your payment failed. Please update your billing details immediately."
Response: Priority

Example 2:
email_content = "Your new iPhone order has been processed."
Response: Updates

Example 3:
email_content = "10% sale now on all Apple items!"
Response: Promotions

Now classify this new email:
email_content = "{email_text}"
Response:"""

# Step 4: Define the function
def process_message(llm, email_text, prompt):
    input_prompt = prompt.format(email_text=email_text)
    response = llm(input_prompt, max_tokens=5, temperature=0, stop=["Q:", "\n"])
    return response['choices'][0]['text'].strip()

# Step 5: Run on first two emails
result1 = process_message(llm, emails_df.iloc[0]["email_content"], prompt)
result2 = process_message(llm, emails_df.iloc[1]["email_content"], prompt)
print(f"Result 1: {result1}")
print(f"Result 2: {result2}")
# iterate through test emails - Loop through the emails DataFrame to process each email and extract its content and expected category.

sample_df = emails_df.head(2)  # Only first 2

for idx, row in sample_df.iterrows():
    email_text = row["email_content"]
    predicted = process_message(llm, email_text, prompt)
    print(f"Email {idx+1} predicted category: {predicted}")
